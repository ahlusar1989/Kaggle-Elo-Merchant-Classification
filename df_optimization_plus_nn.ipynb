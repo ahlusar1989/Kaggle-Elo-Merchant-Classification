{
 "cells": [
  {
   "cell_type": "code",
   "execution_count": 1,
   "metadata": {},
   "outputs": [
    {
     "name": "stdout",
     "output_type": "stream",
     "text": [
      "['Data_Dictionary.xlsx', 'new_merchant_transactions.csv', 'test.csv', 'merchants.csv', 'historical_transactions.csv', 'all.zip', 'train.csv', 'sample_submission.csv']\n"
     ]
    }
   ],
   "source": [
    "import numpy as np # linear algebra\n",
    "import pandas as pd # data processing, CSV file I/O (e.g. pd.read_csv)\n",
    "from statistics import mode \n",
    "# Input data files are available in the \"./input/\" directory.\n",
    "# For example, running this (by clicking run or pressing Shift+Enter) will list the files in the input directory\n",
    "\n",
    "import os\n",
    "print(os.listdir(\"./input\"))"
   ]
  },
  {
   "cell_type": "code",
   "execution_count": 2,
   "metadata": {},
   "outputs": [],
   "source": [
    "train_df = pd.read_csv(\"./input/train.csv\")\n",
    "test_df = pd.read_csv(\"./input/test.csv\")\n",
    "merchants_df = pd.read_csv(\"./input/merchants.csv\")\n",
    "new_merchant_transactions_df = pd.read_csv(\"./input/new_merchant_transactions.csv\", )\n",
    "historical_transactions_df = pd.read_csv(\"./input/historical_transactions.csv\")"
   ]
  },
  {
   "cell_type": "code",
   "execution_count": 3,
   "metadata": {},
   "outputs": [],
   "source": [
    "def memory_optimized_df(df):\n",
    "    \"\"\" iterate through all the columns of a dataframe and modify the data type\n",
    "        to reduce memory usage.        \n",
    "    \"\"\"\n",
    "    start_mem = df.memory_usage().sum() / 1024**2\n",
    "    print('Memory usage of dataframe is {:.2f} MB'.format(start_mem))\\\n",
    "    \n",
    "    for col in df.columns:\n",
    "        col_type = df[col].dtype\n",
    "        \n",
    "        if col_type != object:\n",
    "            c_min = df[col].min()\n",
    "            c_max = df[col].max()\n",
    "            if str(col_type)[:3] == 'int':\n",
    "                if c_min > np.iinfo(np.int8).min and c_max < np.iinfo(np.int8).max:\n",
    "                    df[col] = df[col].astype(np.int8)\n",
    "                elif c_min > np.iinfo(np.int16).min and c_max < np.iinfo(np.int16).max:\n",
    "                    df[col] = df[col].astype(np.int16)\n",
    "                elif c_min > np.iinfo(np.int32).min and c_max < np.iinfo(np.int32).max:\n",
    "                    df[col] = df[col].astype(np.int32)\n",
    "                elif c_min > np.iinfo(np.int64).min and c_max < np.iinfo(np.int64).max:\n",
    "                    df[col] = df[col].astype(np.int64)  \n",
    "            else:\n",
    "                if c_min > np.finfo(np.float16).min and c_max < np.finfo(np.float16).max:\n",
    "                    df[col] = df[col].astype(np.float16)\n",
    "                elif c_min > np.finfo(np.float32).min and c_max < np.finfo(np.float32).max:\n",
    "                    df[col] = df[col].astype(np.float32)\n",
    "                else:\n",
    "                    df[col] = df[col].astype(np.float64)\n",
    "        else:\n",
    "            df[col] = df[col].astype('category')\n",
    "            \n",
    "    end_mem = df.memory_usage().sum() / 1024**2\n",
    "    print('Memory usage after optimization is: {:.2f} MB'.format(end_mem))\n",
    "    print('Decreased by {:.1f}%'.format(100 * (start_mem - end_mem) / start_mem))\n",
    "    \n",
    "    return df        "
   ]
  },
  {
   "cell_type": "code",
   "execution_count": 4,
   "metadata": {},
   "outputs": [],
   "source": [
    "submission_df = pd.DataFrame({'card_id': test_df[\"card_id\"].values})"
   ]
  },
  {
   "cell_type": "code",
   "execution_count": 5,
   "metadata": {},
   "outputs": [
    {
     "name": "stdout",
     "output_type": "stream",
     "text": [
      "Memory usage of dataframe is 56.18 MB\n",
      "Memory usage after optimization is: 32.66 MB\n",
      "Decreased by 41.9%\n",
      "Memory usage of dataframe is 209.67 MB\n",
      "Memory usage after optimization is: 169.08 MB\n",
      "Decreased by 19.4%\n",
      "Memory usage of dataframe is 3109.54 MB\n",
      "Memory usage after optimization is: 1622.97 MB\n",
      "Decreased by 47.8%\n"
     ]
    }
   ],
   "source": [
    "merchants_df_ = memory_optimized_df(merchants_df)\n",
    "new_merchant_transactions_df_ = memory_optimized_df(new_merchant_transactions_df)\n",
    "historical_transactions_df_ = memory_optimized_df(historical_transactions_df)\n",
    "\n",
    "del merchants_df\n",
    "del new_merchant_transactions_df\n",
    "del historical_transactions_df"
   ]
  },
  {
   "cell_type": "code",
   "execution_count": 9,
   "metadata": {},
   "outputs": [],
   "source": [
    "new_merchant_transactions_df_['category_2'].fillna(1.0, inplace=True)\n",
    "new_merchant_transactions_df_['category_3'].fillna('A', inplace=True)\n",
    "\n",
    "historical_transactions_df_['category_2'].fillna(1.0, inplace=True)\n",
    "historical_transactions_df_['category_3'].fillna('A', inplace=True)"
   ]
  },
  {
   "cell_type": "code",
   "execution_count": 10,
   "metadata": {},
   "outputs": [],
   "source": [
    "new_merchant_transactions_df_ = new_merchant_transactions_df_.dropna()\n",
    "historical_transactions_df_al_transactions_df_ = historical_transactions_df_.dropna()"
   ]
  },
  {
   "cell_type": "code",
   "execution_count": 11,
   "metadata": {},
   "outputs": [
    {
     "data": {
      "text/html": [
       "<div>\n",
       "<style scoped>\n",
       "    .dataframe tbody tr th:only-of-type {\n",
       "        vertical-align: middle;\n",
       "    }\n",
       "\n",
       "    .dataframe tbody tr th {\n",
       "        vertical-align: top;\n",
       "    }\n",
       "\n",
       "    .dataframe thead th {\n",
       "        text-align: right;\n",
       "    }\n",
       "</style>\n",
       "<table border=\"1\" class=\"dataframe\">\n",
       "  <thead>\n",
       "    <tr style=\"text-align: right;\">\n",
       "      <th></th>\n",
       "      <th>first_active_month</th>\n",
       "      <th>card_id</th>\n",
       "      <th>feature_1</th>\n",
       "      <th>feature_2</th>\n",
       "      <th>feature_3</th>\n",
       "      <th>target</th>\n",
       "    </tr>\n",
       "  </thead>\n",
       "  <tbody>\n",
       "    <tr>\n",
       "      <th>0</th>\n",
       "      <td>2017-06</td>\n",
       "      <td>C_ID_92a2005557</td>\n",
       "      <td>5</td>\n",
       "      <td>2</td>\n",
       "      <td>1</td>\n",
       "      <td>-0.820283</td>\n",
       "    </tr>\n",
       "    <tr>\n",
       "      <th>1</th>\n",
       "      <td>2017-01</td>\n",
       "      <td>C_ID_3d0044924f</td>\n",
       "      <td>4</td>\n",
       "      <td>1</td>\n",
       "      <td>0</td>\n",
       "      <td>0.392913</td>\n",
       "    </tr>\n",
       "    <tr>\n",
       "      <th>2</th>\n",
       "      <td>2016-08</td>\n",
       "      <td>C_ID_d639edf6cd</td>\n",
       "      <td>2</td>\n",
       "      <td>2</td>\n",
       "      <td>0</td>\n",
       "      <td>0.688056</td>\n",
       "    </tr>\n",
       "    <tr>\n",
       "      <th>3</th>\n",
       "      <td>2017-09</td>\n",
       "      <td>C_ID_186d6a6901</td>\n",
       "      <td>4</td>\n",
       "      <td>3</td>\n",
       "      <td>0</td>\n",
       "      <td>0.142495</td>\n",
       "    </tr>\n",
       "    <tr>\n",
       "      <th>4</th>\n",
       "      <td>2017-11</td>\n",
       "      <td>C_ID_cdbd2c0db2</td>\n",
       "      <td>1</td>\n",
       "      <td>3</td>\n",
       "      <td>0</td>\n",
       "      <td>-0.159749</td>\n",
       "    </tr>\n",
       "  </tbody>\n",
       "</table>\n",
       "</div>"
      ],
      "text/plain": [
       "  first_active_month          card_id  feature_1  feature_2  feature_3  \\\n",
       "0            2017-06  C_ID_92a2005557          5          2          1   \n",
       "1            2017-01  C_ID_3d0044924f          4          1          0   \n",
       "2            2016-08  C_ID_d639edf6cd          2          2          0   \n",
       "3            2017-09  C_ID_186d6a6901          4          3          0   \n",
       "4            2017-11  C_ID_cdbd2c0db2          1          3          0   \n",
       "\n",
       "     target  \n",
       "0 -0.820283  \n",
       "1  0.392913  \n",
       "2  0.688056  \n",
       "3  0.142495  \n",
       "4 -0.159749  "
      ]
     },
     "execution_count": 11,
     "metadata": {},
     "output_type": "execute_result"
    }
   ],
   "source": [
    "train_df.head()"
   ]
  },
  {
   "cell_type": "code",
   "execution_count": 12,
   "metadata": {},
   "outputs": [
    {
     "data": {
      "text/html": [
       "<div>\n",
       "<style scoped>\n",
       "    .dataframe tbody tr th:only-of-type {\n",
       "        vertical-align: middle;\n",
       "    }\n",
       "\n",
       "    .dataframe tbody tr th {\n",
       "        vertical-align: top;\n",
       "    }\n",
       "\n",
       "    .dataframe thead th {\n",
       "        text-align: right;\n",
       "    }\n",
       "</style>\n",
       "<table border=\"1\" class=\"dataframe\">\n",
       "  <thead>\n",
       "    <tr style=\"text-align: right;\">\n",
       "      <th></th>\n",
       "      <th>first_active_month</th>\n",
       "      <th>card_id</th>\n",
       "      <th>feature_1</th>\n",
       "      <th>feature_2</th>\n",
       "      <th>feature_3</th>\n",
       "    </tr>\n",
       "  </thead>\n",
       "  <tbody>\n",
       "    <tr>\n",
       "      <th>0</th>\n",
       "      <td>2017-04</td>\n",
       "      <td>C_ID_0ab67a22ab</td>\n",
       "      <td>3</td>\n",
       "      <td>3</td>\n",
       "      <td>1</td>\n",
       "    </tr>\n",
       "    <tr>\n",
       "      <th>1</th>\n",
       "      <td>2017-01</td>\n",
       "      <td>C_ID_130fd0cbdd</td>\n",
       "      <td>2</td>\n",
       "      <td>3</td>\n",
       "      <td>0</td>\n",
       "    </tr>\n",
       "    <tr>\n",
       "      <th>2</th>\n",
       "      <td>2017-08</td>\n",
       "      <td>C_ID_b709037bc5</td>\n",
       "      <td>5</td>\n",
       "      <td>1</td>\n",
       "      <td>1</td>\n",
       "    </tr>\n",
       "    <tr>\n",
       "      <th>3</th>\n",
       "      <td>2017-12</td>\n",
       "      <td>C_ID_d27d835a9f</td>\n",
       "      <td>2</td>\n",
       "      <td>1</td>\n",
       "      <td>0</td>\n",
       "    </tr>\n",
       "    <tr>\n",
       "      <th>4</th>\n",
       "      <td>2015-12</td>\n",
       "      <td>C_ID_2b5e3df5c2</td>\n",
       "      <td>5</td>\n",
       "      <td>1</td>\n",
       "      <td>1</td>\n",
       "    </tr>\n",
       "  </tbody>\n",
       "</table>\n",
       "</div>"
      ],
      "text/plain": [
       "  first_active_month          card_id  feature_1  feature_2  feature_3\n",
       "0            2017-04  C_ID_0ab67a22ab          3          3          1\n",
       "1            2017-01  C_ID_130fd0cbdd          2          3          0\n",
       "2            2017-08  C_ID_b709037bc5          5          1          1\n",
       "3            2017-12  C_ID_d27d835a9f          2          1          0\n",
       "4            2015-12  C_ID_2b5e3df5c2          5          1          1"
      ]
     },
     "execution_count": 12,
     "metadata": {},
     "output_type": "execute_result"
    }
   ],
   "source": [
    "test_df.head()"
   ]
  },
  {
   "cell_type": "code",
   "execution_count": 14,
   "metadata": {},
   "outputs": [],
   "source": [
    "train_df['first_active_month'] = pd.to_datetime(train_df['first_active_month'])"
   ]
  },
  {
   "cell_type": "code",
   "execution_count": 15,
   "metadata": {},
   "outputs": [],
   "source": [
    "test_df['first_active_month'] = pd.to_datetime(test_df['first_active_month'])"
   ]
  },
  {
   "cell_type": "code",
   "execution_count": 16,
   "metadata": {},
   "outputs": [],
   "source": [
    "def to_binary(df):\n",
    "    for col in ['authorized_flag', 'category_1']:\n",
    "        df[col] = df[col].map({'Y': 1, 'N': 0})\n",
    "    return df"
   ]
  },
  {
   "cell_type": "code",
   "execution_count": 18,
   "metadata": {},
   "outputs": [],
   "source": [
    "historical_transactions_df_ = to_binary(historical_transactions_df_)\n",
    "new_merchant_transactions_df_ = to_binary(new_merchant_transactions_df_)"
   ]
  },
  {
   "cell_type": "code",
   "execution_count": 20,
   "metadata": {},
   "outputs": [],
   "source": [
    "historical_transactions_df_['category_3'] = historical_transactions_df_['category_3'].astype('category').cat.codes\n",
    "new_merchant_transactions_df_['category_3'] = new_merchant_transactions_df_['category_3'].astype('category').cat.codes\n"
   ]
  },
  {
   "cell_type": "code",
   "execution_count": 22,
   "metadata": {},
   "outputs": [],
   "source": [
    "all_transactions = historical_transactions_df_.append(new_merchant_transactions_df_)"
   ]
  },
  {
   "cell_type": "code",
   "execution_count": 23,
   "metadata": {},
   "outputs": [],
   "source": [
    "del historical_transactions_df_\n",
    "\n",
    "del new_merchant_transactions_df_"
   ]
  },
  {
   "cell_type": "code",
   "execution_count": 25,
   "metadata": {},
   "outputs": [],
   "source": [
    "from scipy import stats\n",
    "\n",
    "def aggregate_transactions(history):\n",
    "    history.loc[:, 'purchase_date'] = pd.DatetimeIndex(history['purchase_date']).\\\n",
    "                                      astype(np.int64) * 1e-9\n",
    "    agg_func = {\n",
    "        'authorized_flag': ['sum', 'mean', lambda x: tuple(stats.mode(x)[0])],\n",
    "        'category_1': ['sum', 'mean', lambda x: tuple(stats.mode(x)[0])],\n",
    "        'category_2': ['sum', 'mean', lambda x: tuple(stats.mode(x)[0])],\n",
    "        'category_3': ['sum', 'mean', lambda x: tuple(stats.mode(x)[0])],\n",
    "        'merchant_id': ['nunique', lambda x: tuple(stats.mode(x)[0])],\n",
    "        'merchant_category_id': ['nunique', lambda x: tuple(stats.mode(x)[0])],\n",
    "        'state_id': ['nunique', lambda x: tuple(stats.mode(x)[0])],\n",
    "        'city_id': ['nunique', lambda x: tuple(stats.mode(x)[0])],\n",
    "        'subsector_id': ['nunique', lambda x: tuple(stats.mode(x)[0])],\n",
    "        'purchase_amount': ['sum', 'mean', 'max', 'min', 'std'],\n",
    "        'installments': ['sum', 'mean', 'max', 'min', 'std'],\n",
    "        'month_lag': [ lambda x: tuple(stats.mode(x)[0])]\n",
    "    }\n",
    "    \n",
    "    agg_history = history.groupby(['card_id']).agg(agg_func)\n",
    "    agg_history.columns = ['_'.join(col).strip() for col in agg_history.columns.values]\n",
    "    agg_history.reset_index(inplace = True)\n",
    "    \n",
    "    df = (history.groupby('card_id')\n",
    "          .size()\n",
    "          .reset_index(name='transactions_count'))\n",
    "    \n",
    "    agg_history = pd.merge(df, agg_history, on='card_id', how='left')\n",
    "    \n",
    "    return agg_history"
   ]
  },
  {
   "cell_type": "code",
   "execution_count": 27,
   "metadata": {},
   "outputs": [
    {
     "name": "stderr",
     "output_type": "stream",
     "text": [
      "/usr/local/Cellar/python3/3.5.1/Frameworks/Python.framework/Versions/3.5/lib/python3.5/site-packages/scipy/stats/stats.py:245: RuntimeWarning: The input array could not be properly checked for nan values. nan values will be ignored.\n",
      "  \"values. nan values will be ignored.\", RuntimeWarning)\n"
     ]
    }
   ],
   "source": [
    "all_historical_transactions = aggregate_transactions(all_transactions)"
   ]
  },
  {
   "cell_type": "code",
   "execution_count": 28,
   "metadata": {},
   "outputs": [],
   "source": [
    "all_historical_transactions.columns = ['hist_' + c if c != 'card_id' else c for c in all_historical_transactions.columns]"
   ]
  },
  {
   "cell_type": "code",
   "execution_count": 29,
   "metadata": {},
   "outputs": [],
   "source": [
    "train = pd.merge(train_df, all_historical_transactions, on ='card_id', how='left')\n",
    "test = pd.merge(test_df, all_historical_transactions, on='card_id', how='left')"
   ]
  },
  {
   "cell_type": "code",
   "execution_count": 30,
   "metadata": {},
   "outputs": [
    {
     "data": {
      "text/plain": [
       "Index(['first_active_month', 'card_id', 'feature_1', 'feature_2', 'feature_3',\n",
       "       'target', 'hist_transactions_count', 'hist_purchase_amount_sum',\n",
       "       'hist_purchase_amount_mean', 'hist_purchase_amount_max',\n",
       "       'hist_purchase_amount_min', 'hist_purchase_amount_std',\n",
       "       'hist_category_1_sum', 'hist_category_1_mean',\n",
       "       'hist_category_1_<lambda>', 'hist_installments_sum',\n",
       "       'hist_installments_mean', 'hist_installments_max',\n",
       "       'hist_installments_min', 'hist_installments_std',\n",
       "       'hist_city_id_nunique', 'hist_city_id_<lambda>',\n",
       "       'hist_subsector_id_nunique', 'hist_subsector_id_<lambda>',\n",
       "       'hist_merchant_id_nunique', 'hist_merchant_id_<lambda>',\n",
       "       'hist_merchant_category_id_nunique',\n",
       "       'hist_merchant_category_id_<lambda>', 'hist_authorized_flag_sum',\n",
       "       'hist_authorized_flag_mean', 'hist_authorized_flag_<lambda>',\n",
       "       'hist_category_2_sum', 'hist_category_2_mean',\n",
       "       'hist_category_2_<lambda>', 'hist_state_id_nunique',\n",
       "       'hist_state_id_<lambda>', 'hist_month_lag_<lambda>',\n",
       "       'hist_category_3_sum', 'hist_category_3_mean',\n",
       "       'hist_category_3_<lambda>'],\n",
       "      dtype='object')"
      ]
     },
     "execution_count": 30,
     "metadata": {},
     "output_type": "execute_result"
    }
   ],
   "source": [
    "train.columns"
   ]
  },
  {
   "cell_type": "code",
   "execution_count": 31,
   "metadata": {},
   "outputs": [],
   "source": [
    "train['hist_authorized_flag_<lambda>'] = train['hist_authorized_flag_<lambda>'].map(lambda x: str(x).lstrip('(').rstrip(',)')).astype(int)\n",
    "train['hist_category_1_<lambda>'] = train['hist_category_1_<lambda>'].map(lambda x: str(x).lstrip('(').rstrip(',)')).astype(int)"
   ]
  },
  {
   "cell_type": "code",
   "execution_count": 32,
   "metadata": {},
   "outputs": [],
   "source": [
    "train['hist_category_2_<lambda>'] = train['hist_category_2_<lambda>'].map(lambda x: str(x).lstrip('(').rstrip(',)'))\n",
    "train['hist_category_3_<lambda>'] = train['hist_category_3_<lambda>'].map(lambda x: str(x).lstrip('(').rstrip(',)'))\n",
    "train['hist_merchant_id_<lambda>'] = train['hist_merchant_id_<lambda>'].map(lambda x: str(x).lstrip('(').rstrip(',)'))\n",
    "train['hist_merchant_category_id_<lambda>'] = train['hist_merchant_category_id_<lambda>'].map(lambda x: str(x).lstrip('(').rstrip(',)')).astype(int)\n",
    "train['hist_state_id_<lambda>'] = train['hist_state_id_<lambda>'].map(lambda x: str(x).lstrip('(').rstrip(',)')).astype(int)\n",
    "train['hist_city_id_<lambda>'] = train['hist_city_id_<lambda>'].map(lambda x: str(x).lstrip('(').rstrip(',)')).astype(int)\n",
    "train['hist_subsector_id_<lambda>'] = train['hist_subsector_id_<lambda>'].map(lambda x: str(x).lstrip('(').rstrip(',)')).astype(int)\n",
    "train['hist_month_lag_<lambda>'] = train['hist_month_lag_<lambda>'].map(lambda x: str(x).lstrip('(').rstrip(',)')).astype(int)"
   ]
  },
  {
   "cell_type": "code",
   "execution_count": 33,
   "metadata": {},
   "outputs": [],
   "source": [
    "test['hist_authorized_flag_<lambda>'] = test['hist_authorized_flag_<lambda>'].map(lambda x: str(x).lstrip('(').rstrip(',)')).astype(int)\n",
    "test['hist_category_1_<lambda>'] = test['hist_category_1_<lambda>'].map(lambda x: str(x).lstrip('(').rstrip(',)')).astype(int)\n",
    "test['hist_category_2_<lambda>'] = test['hist_category_2_<lambda>'].map(lambda x: str(x).lstrip('(').rstrip(',)'))\n",
    "test['hist_category_3_<lambda>'] = test['hist_category_3_<lambda>'].map(lambda x: str(x).lstrip('(').rstrip(',)'))\n",
    "\n",
    "test['hist_merchant_id_<lambda>'] = test['hist_merchant_id_<lambda>'].map(lambda x: str(x).lstrip('(').rstrip(',)'))\n",
    "test['hist_merchant_category_id_<lambda>'] = test['hist_merchant_category_id_<lambda>'].map(lambda x: str(x).lstrip('(').rstrip(',)')).astype(int)\n",
    "test['hist_state_id_<lambda>'] = test['hist_state_id_<lambda>'].map(lambda x: str(x).lstrip('(').rstrip(',)')).astype(int)\n",
    "test['hist_city_id_<lambda>'] = test['hist_city_id_<lambda>'].map(lambda x: str(x).lstrip('(').rstrip(',)')).astype(int)\n",
    "test['hist_subsector_id_<lambda>'] = test['hist_subsector_id_<lambda>'].map(lambda x: str(x).lstrip('(').rstrip(',)')).astype(int)\n",
    "test['hist_month_lag_<lambda>'] = test['hist_month_lag_<lambda>'].map(lambda x: str(x).lstrip('(').rstrip(',)')).astype(int)"
   ]
  },
  {
   "cell_type": "code",
   "execution_count": 34,
   "metadata": {},
   "outputs": [],
   "source": [
    "test.columns = ['first_active_month', 'card_id', 'feature_1', 'feature_2', 'feature_3',\n",
    "       'hist_transactions_count', 'hist_authorized_flag_sum',\n",
    "       'hist_authorized_flag_mean', 'hist_authorized_flag_mode',\n",
    "       'hist_category_1_sum', 'hist_category_1_mean',\n",
    "       'hist_category_1_mode', 'hist_category_2_sum',\n",
    "       'hist_category_2_mean', 'hist_category_2_mode',\n",
    "       'hist_category_3_sum', 'hist_category_3_mean',\n",
    "       'hist_category_3_mode', 'hist_merchant_id_nunique',\n",
    "       'hist_merchant_id_mode', 'hist_merchant_category_id_nunique',\n",
    "       'hist_merchant_category_id_mode', 'hist_state_id_nunique',\n",
    "       'hist_state_id_mode', 'hist_city_id_nunique',\n",
    "       'hist_city_id_mode', 'hist_subsector_id_nunique',\n",
    "       'hist_subsector_id_mode', 'hist_purchase_amount_sum',\n",
    "       'hist_purchase_amount_mean', 'hist_purchase_amount_max',\n",
    "       'hist_purchase_amount_min', 'hist_purchase_amount_std',\n",
    "       'hist_installments_sum', 'hist_installments_mean',\n",
    "       'hist_installments_max', 'hist_installments_min',\n",
    "       'hist_installments_std', 'hist_month_lag_mode']"
   ]
  },
  {
   "cell_type": "code",
   "execution_count": 35,
   "metadata": {},
   "outputs": [],
   "source": [
    "train.columns = ['first_active_month', 'card_id', 'feature_1', 'feature_2', 'feature_3',\n",
    "       'target', 'hist_transactions_count', 'hist_authorized_flag_sum',\n",
    "       'hist_authorized_flag_mean', 'hist_authorized_flag_mode',\n",
    "       'hist_category_1_sum', 'hist_category_1_mean',\n",
    "       'hist_category_1_mode', 'hist_category_2_sum',\n",
    "       'hist_category_2_mean', 'hist_category_2_mode',\n",
    "       'hist_category_3_sum', 'hist_category_3_mean',\n",
    "       'hist_category_3_mode', 'hist_merchant_id_nunique',\n",
    "       'hist_merchant_id_mode', 'hist_merchant_category_id_nunique',\n",
    "       'hist_merchant_category_id_<lambda>', 'hist_state_id_nunique',\n",
    "       'hist_state_id_mode', 'hist_city_id_nunique',\n",
    "       'hist_city_id_mode', 'hist_subsector_id_nunique',\n",
    "       'hist_subsector_id_mode', 'hist_purchase_amount_sum',\n",
    "       'hist_purchase_amount_mean', 'hist_purchase_amount_max',\n",
    "       'hist_purchase_amount_min', 'hist_purchase_amount_std',\n",
    "       'hist_installments_sum', 'hist_installments_mean',\n",
    "       'hist_installments_max', 'hist_installments_min',\n",
    "       'hist_installments_std', 'hist_month_lag_mode']"
   ]
  },
  {
   "cell_type": "code",
   "execution_count": 36,
   "metadata": {},
   "outputs": [
    {
     "data": {
      "text/html": [
       "<div>\n",
       "<style scoped>\n",
       "    .dataframe tbody tr th:only-of-type {\n",
       "        vertical-align: middle;\n",
       "    }\n",
       "\n",
       "    .dataframe tbody tr th {\n",
       "        vertical-align: top;\n",
       "    }\n",
       "\n",
       "    .dataframe thead th {\n",
       "        text-align: right;\n",
       "    }\n",
       "</style>\n",
       "<table border=\"1\" class=\"dataframe\">\n",
       "  <thead>\n",
       "    <tr style=\"text-align: right;\">\n",
       "      <th></th>\n",
       "      <th>first_active_month</th>\n",
       "      <th>card_id</th>\n",
       "      <th>feature_1</th>\n",
       "      <th>feature_2</th>\n",
       "      <th>feature_3</th>\n",
       "      <th>hist_transactions_count</th>\n",
       "      <th>hist_authorized_flag_sum</th>\n",
       "      <th>hist_authorized_flag_mean</th>\n",
       "      <th>hist_authorized_flag_mode</th>\n",
       "      <th>hist_category_1_sum</th>\n",
       "      <th>...</th>\n",
       "      <th>hist_purchase_amount_mean</th>\n",
       "      <th>hist_purchase_amount_max</th>\n",
       "      <th>hist_purchase_amount_min</th>\n",
       "      <th>hist_purchase_amount_std</th>\n",
       "      <th>hist_installments_sum</th>\n",
       "      <th>hist_installments_mean</th>\n",
       "      <th>hist_installments_max</th>\n",
       "      <th>hist_installments_min</th>\n",
       "      <th>hist_installments_std</th>\n",
       "      <th>hist_month_lag_mode</th>\n",
       "    </tr>\n",
       "  </thead>\n",
       "  <tbody>\n",
       "    <tr>\n",
       "      <th>0</th>\n",
       "      <td>2017-04-01</td>\n",
       "      <td>C_ID_0ab67a22ab</td>\n",
       "      <td>3</td>\n",
       "      <td>3</td>\n",
       "      <td>1</td>\n",
       "      <td>71</td>\n",
       "      <td>-42.511078</td>\n",
       "      <td>-0.598748</td>\n",
       "      <td>0.235676</td>\n",
       "      <td>-0.743903</td>\n",
       "      <td>...</td>\n",
       "      <td>1</td>\n",
       "      <td>71.0</td>\n",
       "      <td>1.000000</td>\n",
       "      <td>1.0</td>\n",
       "      <td>3</td>\n",
       "      <td>12</td>\n",
       "      <td>-6</td>\n",
       "      <td>94.0</td>\n",
       "      <td>1.323944</td>\n",
       "      <td>1</td>\n",
       "    </tr>\n",
       "    <tr>\n",
       "      <th>1</th>\n",
       "      <td>2017-01-01</td>\n",
       "      <td>C_ID_130fd0cbdd</td>\n",
       "      <td>2</td>\n",
       "      <td>3</td>\n",
       "      <td>0</td>\n",
       "      <td>87</td>\n",
       "      <td>-55.080849</td>\n",
       "      <td>-0.633113</td>\n",
       "      <td>0.318817</td>\n",
       "      <td>-0.740723</td>\n",
       "      <td>...</td>\n",
       "      <td>1</td>\n",
       "      <td>335.0</td>\n",
       "      <td>3.849609</td>\n",
       "      <td>4.0</td>\n",
       "      <td>3</td>\n",
       "      <td>13</td>\n",
       "      <td>-10</td>\n",
       "      <td>90.0</td>\n",
       "      <td>1.034483</td>\n",
       "      <td>1</td>\n",
       "    </tr>\n",
       "    <tr>\n",
       "      <th>2</th>\n",
       "      <td>2017-08-01</td>\n",
       "      <td>C_ID_b709037bc5</td>\n",
       "      <td>5</td>\n",
       "      <td>1</td>\n",
       "      <td>1</td>\n",
       "      <td>15</td>\n",
       "      <td>4.708528</td>\n",
       "      <td>0.313902</td>\n",
       "      <td>2.525867</td>\n",
       "      <td>-0.724609</td>\n",
       "      <td>...</td>\n",
       "      <td>1</td>\n",
       "      <td>63.0</td>\n",
       "      <td>4.199219</td>\n",
       "      <td>5.0</td>\n",
       "      <td>5</td>\n",
       "      <td>5</td>\n",
       "      <td>-3</td>\n",
       "      <td>22.0</td>\n",
       "      <td>1.466667</td>\n",
       "      <td>2</td>\n",
       "    </tr>\n",
       "    <tr>\n",
       "      <th>3</th>\n",
       "      <td>2017-12-01</td>\n",
       "      <td>C_ID_d27d835a9f</td>\n",
       "      <td>2</td>\n",
       "      <td>1</td>\n",
       "      <td>0</td>\n",
       "      <td>36</td>\n",
       "      <td>-19.435101</td>\n",
       "      <td>-0.539864</td>\n",
       "      <td>0.087965</td>\n",
       "      <td>-0.731881</td>\n",
       "      <td>...</td>\n",
       "      <td>1</td>\n",
       "      <td>40.0</td>\n",
       "      <td>1.111328</td>\n",
       "      <td>1.0</td>\n",
       "      <td>3</td>\n",
       "      <td>9</td>\n",
       "      <td>-2</td>\n",
       "      <td>46.0</td>\n",
       "      <td>1.277778</td>\n",
       "      <td>1</td>\n",
       "    </tr>\n",
       "    <tr>\n",
       "      <th>4</th>\n",
       "      <td>2015-12-01</td>\n",
       "      <td>C_ID_2b5e3df5c2</td>\n",
       "      <td>5</td>\n",
       "      <td>1</td>\n",
       "      <td>1</td>\n",
       "      <td>116</td>\n",
       "      <td>37.205791</td>\n",
       "      <td>0.320740</td>\n",
       "      <td>15.782255</td>\n",
       "      <td>-0.746758</td>\n",
       "      <td>...</td>\n",
       "      <td>1</td>\n",
       "      <td>446.0</td>\n",
       "      <td>3.845703</td>\n",
       "      <td>4.0</td>\n",
       "      <td>4</td>\n",
       "      <td>13</td>\n",
       "      <td>0</td>\n",
       "      <td>122.0</td>\n",
       "      <td>1.051724</td>\n",
       "      <td>1</td>\n",
       "    </tr>\n",
       "  </tbody>\n",
       "</table>\n",
       "<p>5 rows × 39 columns</p>\n",
       "</div>"
      ],
      "text/plain": [
       "  first_active_month          card_id  feature_1  feature_2  feature_3  \\\n",
       "0         2017-04-01  C_ID_0ab67a22ab          3          3          1   \n",
       "1         2017-01-01  C_ID_130fd0cbdd          2          3          0   \n",
       "2         2017-08-01  C_ID_b709037bc5          5          1          1   \n",
       "3         2017-12-01  C_ID_d27d835a9f          2          1          0   \n",
       "4         2015-12-01  C_ID_2b5e3df5c2          5          1          1   \n",
       "\n",
       "   hist_transactions_count  hist_authorized_flag_sum  \\\n",
       "0                       71                -42.511078   \n",
       "1                       87                -55.080849   \n",
       "2                       15                  4.708528   \n",
       "3                       36                -19.435101   \n",
       "4                      116                 37.205791   \n",
       "\n",
       "   hist_authorized_flag_mean  hist_authorized_flag_mode  hist_category_1_sum  \\\n",
       "0                  -0.598748                   0.235676            -0.743903   \n",
       "1                  -0.633113                   0.318817            -0.740723   \n",
       "2                   0.313902                   2.525867            -0.724609   \n",
       "3                  -0.539864                   0.087965            -0.731881   \n",
       "4                   0.320740                  15.782255            -0.746758   \n",
       "\n",
       "          ...           hist_purchase_amount_mean  hist_purchase_amount_max  \\\n",
       "0         ...                                   1                      71.0   \n",
       "1         ...                                   1                     335.0   \n",
       "2         ...                                   1                      63.0   \n",
       "3         ...                                   1                      40.0   \n",
       "4         ...                                   1                     446.0   \n",
       "\n",
       "   hist_purchase_amount_min  hist_purchase_amount_std  hist_installments_sum  \\\n",
       "0                  1.000000                       1.0                      3   \n",
       "1                  3.849609                       4.0                      3   \n",
       "2                  4.199219                       5.0                      5   \n",
       "3                  1.111328                       1.0                      3   \n",
       "4                  3.845703                       4.0                      4   \n",
       "\n",
       "   hist_installments_mean  hist_installments_max  hist_installments_min  \\\n",
       "0                      12                     -6                   94.0   \n",
       "1                      13                    -10                   90.0   \n",
       "2                       5                     -3                   22.0   \n",
       "3                       9                     -2                   46.0   \n",
       "4                      13                      0                  122.0   \n",
       "\n",
       "   hist_installments_std  hist_month_lag_mode  \n",
       "0               1.323944                    1  \n",
       "1               1.034483                    1  \n",
       "2               1.466667                    2  \n",
       "3               1.277778                    1  \n",
       "4               1.051724                    1  \n",
       "\n",
       "[5 rows x 39 columns]"
      ]
     },
     "execution_count": 36,
     "metadata": {},
     "output_type": "execute_result"
    }
   ],
   "source": [
    "test.head()"
   ]
  },
  {
   "cell_type": "code",
   "execution_count": 37,
   "metadata": {},
   "outputs": [],
   "source": [
    "del all_historical_transactions"
   ]
  },
  {
   "cell_type": "code",
   "execution_count": 39,
   "metadata": {},
   "outputs": [
    {
     "data": {
      "text/plain": [
       "merchant_id                        0\n",
       "merchant_group_id                  0\n",
       "merchant_category_id               0\n",
       "subsector_id                       0\n",
       "numerical_1                        0\n",
       "numerical_2                        0\n",
       "category_1                         0\n",
       "most_recent_sales_range            0\n",
       "most_recent_purchases_range        0\n",
       "avg_sales_lag3                    13\n",
       "avg_purchases_lag3                 0\n",
       "active_months_lag3                 0\n",
       "avg_sales_lag6                    13\n",
       "avg_purchases_lag6                 0\n",
       "active_months_lag6                 0\n",
       "avg_sales_lag12                   13\n",
       "avg_purchases_lag12                0\n",
       "active_months_lag12                0\n",
       "category_4                         0\n",
       "city_id                            0\n",
       "state_id                           0\n",
       "category_2                     11887\n",
       "dtype: int64"
      ]
     },
     "execution_count": 39,
     "metadata": {},
     "output_type": "execute_result"
    }
   ],
   "source": [
    "merchants_df_.isna().sum()"
   ]
  },
  {
   "cell_type": "code",
   "execution_count": 41,
   "metadata": {},
   "outputs": [],
   "source": [
    "merchants_df_['avg_sales_lag3'].fillna(1.0, inplace = True)\n",
    "merchants_df_['avg_sales_lag6'].fillna(1.0, inplace = True)\n",
    "merchants_df_['avg_sales_lag12'].fillna(1.0, inplace = True)"
   ]
  },
  {
   "cell_type": "code",
   "execution_count": 42,
   "metadata": {},
   "outputs": [],
   "source": [
    "merchants_df_['category_2'].fillna(1.0, inplace = True)"
   ]
  },
  {
   "cell_type": "code",
   "execution_count": 44,
   "metadata": {},
   "outputs": [],
   "source": [
    "target = train.target"
   ]
  },
  {
   "cell_type": "code",
   "execution_count": 47,
   "metadata": {},
   "outputs": [],
   "source": [
    "merchants_df_['category_1'] = merchants_df_['category_1'].astype('category').cat.codes\n",
    "merchants_df_['most_recent_sales_range'] = merchants_df_['most_recent_sales_range'].astype('category').cat.codes\n",
    "merchants_df_['most_recent_purchases_range'] = merchants_df_['most_recent_purchases_range'].astype('category').cat.codes\n",
    "merchants_df_['category_4'] = merchants_df_['category_4'].astype('category').cat.codes"
   ]
  },
  {
   "cell_type": "code",
   "execution_count": 49,
   "metadata": {},
   "outputs": [
    {
     "data": {
      "text/plain": [
       "merchant_id                    334633\n",
       "merchant_group_id              109391\n",
       "merchant_category_id              324\n",
       "subsector_id                       41\n",
       "numerical_1                       950\n",
       "numerical_2                       944\n",
       "category_1                          2\n",
       "most_recent_sales_range             5\n",
       "most_recent_purchases_range         5\n",
       "avg_sales_lag3                   3372\n",
       "avg_purchases_lag3             100003\n",
       "active_months_lag3                  3\n",
       "avg_sales_lag6                   4507\n",
       "avg_purchases_lag6             135202\n",
       "active_months_lag6                  6\n",
       "avg_sales_lag12                  5009\n",
       "avg_purchases_lag12            172917\n",
       "active_months_lag12                12\n",
       "category_4                          2\n",
       "city_id                           271\n",
       "state_id                           25\n",
       "category_2                          5\n",
       "dtype: int64"
      ]
     },
     "execution_count": 49,
     "metadata": {},
     "output_type": "execute_result"
    }
   ],
   "source": [
    "merchants_df_.apply(lambda x: len(x.unique()))"
   ]
  },
  {
   "cell_type": "code",
   "execution_count": 50,
   "metadata": {},
   "outputs": [],
   "source": [
    "def aggregate_merchants(history):\n",
    "    \n",
    "    agg_funcs = {\n",
    "    \n",
    "        'merchant_group_id': [lambda x: tuple(stats.mode(x)[0])],\n",
    "        'merchant_category_id': [lambda x: tuple(stats.mode(x)[0])],\n",
    "        'subsector_id': [lambda x: tuple(stats.mode(x)[0])],\n",
    "        'numerical_1': ['sum', 'mean'],\n",
    "        'numerical_2': ['sum', 'mean'],\n",
    "        'category_1': [lambda x: tuple(stats.mode(x)[0])],\n",
    "        'most_recent_sales_range': [lambda x: tuple(stats.mode(x)[0])],\n",
    "        'most_recent_purchases_range': [lambda x: tuple(stats.mode(x)[0])],\n",
    "        'avg_sales_lag3': ['sum', 'mean'],\n",
    "        'avg_purchases_lag3': ['sum', 'mean'],\n",
    "        'active_months_lag3': [lambda x: tuple(stats.mode(x)[0])],\n",
    "        'avg_sales_lag6': ['mean',lambda x: tuple(stats.mode(x)[0])],\n",
    "        'avg_purchases_lag6': ['sum', 'mean'],\n",
    "        'active_months_lag6': [lambda x: tuple(stats.mode(x)[0])],\n",
    "        'avg_sales_lag12': ['sum', 'mean'],\n",
    "        'avg_purchases_lag12': ['sum', 'mean'],\n",
    "        'active_months_lag12': [lambda x: tuple(stats.mode(x)[0])],\n",
    "        'category_4': [lambda x: tuple(stats.mode(x)[0])],\n",
    "        'city_id': [lambda x: tuple(stats.mode(x)[0])],\n",
    "        'state_id': [lambda x: tuple(stats.mode(x)[0])],\n",
    "        'category_2': [lambda x: tuple(stats.mode(x)[0])]\n",
    "        \n",
    "    }\n",
    "    \n",
    "    agg_history = history.groupby(['merchant_id']).agg(agg_funcs)\n",
    "    agg_history.columns = ['_'.join(col).strip() for col in agg_history.columns.values]\n",
    "    agg_history.reset_index(inplace=True)\n",
    "    \n",
    "    df = (history.groupby('merchant_id')\n",
    "          .size()\n",
    "          .reset_index(name='merchant_count'))\n",
    "    \n",
    "    agg_history = pd.merge(df, agg_history, on='merchant_id', how='left')\n",
    "    \n",
    "    return agg_history"
   ]
  },
  {
   "cell_type": "code",
   "execution_count": null,
   "metadata": {},
   "outputs": [],
   "source": [
    "merchants_data_all = aggregate_merchants(merchants_df_)"
   ]
  },
  {
   "cell_type": "code",
   "execution_count": null,
   "metadata": {},
   "outputs": [],
   "source": []
  }
 ],
 "metadata": {
  "kernelspec": {
   "display_name": "Python 3",
   "language": "python",
   "name": "python3"
  },
  "language_info": {
   "codemirror_mode": {
    "name": "ipython",
    "version": 3
   },
   "file_extension": ".py",
   "mimetype": "text/x-python",
   "name": "python",
   "nbconvert_exporter": "python",
   "pygments_lexer": "ipython3",
   "version": "3.5.1"
  }
 },
 "nbformat": 4,
 "nbformat_minor": 2
}
